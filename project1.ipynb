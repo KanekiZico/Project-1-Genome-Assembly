{
 "cells": [
  {
   "cell_type": "markdown",
   "id": "7da87395",
   "metadata": {},
   "source": [
    "# Project 1: Assembling Genomes"
   ]
  },
  {
   "cell_type": "markdown",
   "id": "a9645da6",
   "metadata": {},
   "source": [
    "\n",
    "   <div class=\"alert alert-block alert-danger\">\n",
    "    <center>Due: <b>Tuesday, 8 February, 4:59pm</b>.</center> \n",
    "   </div>\n",
    "   \n",
    "   <div class=\"alert alert-block alert-warning\">\n",
    "   <center>\n",
    "       <b>Collaboration and Resource Policy</b>\n",
    "    </center>\n",
    "    For this assignment, you are encouraged to work with one other person. Your team must satisfy the constraints mentioned in <a href=\"https://www.dropbox.com/s/g6z2xncwc4jsplp/csbio-class2-inked.pdf?dl=0\">Class 2</a>.\n",
    "    \n",
    "   1. You went to different high schools.\n",
    "   2. You and your partner have different answers to <em>at least one</em> of these questions:\n",
    "       - What country were you born in?\n",
    "       - Have you taken any biology courses at UVA?\n",
    "       - Have you taken cs3102?\n",
    "       - Have you taken cs4102?\n",
    "    \n",
    "We expect most students will have the best learning experience on this assignment by working with a partner, but if you prefer to work alone it is okay to do this assignment on your own.\n",
    "    \n",
    "You are permitted (actually _encouraged_) to discuss these problems with anyone you want, including other students in the class. If you do discuss the specific questions in the assignment with anyone other than your assignment partner and the course staff, though, you should list them in the _External resources used_ section below.\n",
    "    \n",
    "You are welcome to use any resources you want for this assignment, other than ones that would defeat the purpose of the assignment. This means you should not look at answers or code from any other students in the class (other than your collaboration with your partner), and if you find code that implements the problem you are being asked to do for the assignment, you should not use that code. You should document all external resource you use that are not part of the course materials in the _External resources used_ section below."
   ]
  },
  {
   "cell_type": "markdown",
   "id": "347b858e",
   "metadata": {},
   "source": [
    "# **Team submitting this assignment:**  \n",
    "<div class=\"alert alert-success\">\n",
    "    <b><em>list each member of your team here, including both your name and UVA computing id</em></b>\n",
    "</div>\n",
    "    \n",
    "    Nafisa Amrula (nt8aw)\n",
    "    Grant Matteo (gcm2es)\n",
    "\n",
    "**External resources used:** \n",
    "<div class=\"alert alert-success\">\n",
    "<em>It is not necessary to list the course materials, but if you used any other resources, including discussing problems with students not on your team, list them here.</em>\n",
    "</div>"
   ]
  },
  {
   "cell_type": "markdown",
   "id": "57bc46a1",
   "metadata": {},
   "source": [
    "In this project, we will explore genome assembly — the process of determining the order of nucleotides from fragmented reads that are produced by sequencing machines. \n",
    "\n",
    "Genome assembly maps to a very well defined computer science problem, but can get quite complicated, as problems such as full sequence coverage, finding a good length for reads (the $k$ in $k$-mer), and sequencing errors present challenges for sequencing analysis and accuracy. For the required problems (ones everyone is expected to solve), you will be able to assume perfect coverage and no read errors; for the \"challenge\" problem (that is considered a bonus, and not something we expect everyone to be able to solve, and perhaps may not even be feasible for anyone to solve) you will not be able to rely on such assumptions."
   ]
  },
  {
   "cell_type": "markdown",
   "id": "b701651a",
   "metadata": {},
   "source": [
    " <div class=\"alert alert-block alert-warning\">\n",
    "    \n",
    "<b>Submission</b>: You should work on this assignment by forking the provided Project 1 repository (you probably already did this, following the instructions posted at [https://computingbiology.github.io/project1](https://computingbiology.github.io/project1). Add the other teammate to as a collaborator with write access (also under the Settings tab) to this repository.\n",
    "    \n",
    "You should answer the questions and write your code in this Jupyter Notebook. (We don't expect you to need to use any external files or organize your code outside of the notebook, but if you do, make sure to put everything needed to run your code in your repository.) Parts where you are expected to provide and answer (which could be text that can be written in markdown format in the notebook or Python code that runs in the notebook) are marked in green.\n",
    "        \n",
    "When you are ready to submit the assignment, you should create a release of the version you are submitting ([github's directions for how to create a release](https://docs.github.com/en/repositories/releasing-projects-on-github/managing-releases-in-a-repository)) tagged as `submit`. After you've done this, send a message in slack to a channel that includes both team members (so the one sending this message should include the other team member) and all of the course staff (`dave`, `Hyun Jae Cho`, and `Anshuman Suri`) and a link to your repository (feel free to add any other useful comments if you want, but the link to your submission repository is sufficient)."
   ]
  },
  {
   "cell_type": "markdown",
   "id": "6ddc5cc5",
   "metadata": {},
   "source": [
    "## Getting Started"
   ]
  },
  {
   "cell_type": "markdown",
   "id": "65e42801",
   "metadata": {},
   "source": [
    "1. Install basic required packages, should be run only once. You may need to restart the jupyter python kernel (under the Kernel menu) after this. (You can execute this directly in the notebook but running the command below.)"
   ]
  },
  {
   "cell_type": "markdown",
   "id": "1216a88e",
   "metadata": {},
   "source": [
    "%pip install -r requirements.txt"
   ]
  },
  {
   "cell_type": "markdown",
   "id": "68cf7d92",
   "metadata": {},
   "source": [
    "2. Make sure you have [graphviz](https://graphviz.org/) installed on your system. (On a Mac OS X, `brew install graphviz`. For other platforms, see [_https://graphviz.org/download/_](https://graphviz.org/download/).)"
   ]
  },
  {
   "cell_type": "code",
   "execution_count": 1,
   "id": "d39abe1f",
   "metadata": {},
   "outputs": [],
   "source": [
    "import collections\n",
    "import matplotlib.pyplot as plt\n",
    "\n",
    "import utils"
   ]
  },
  {
   "cell_type": "markdown",
   "id": "5554e2bc",
   "metadata": {},
   "source": [
    "## Part 1: Assembling the TeleTubby Genome"
   ]
  },
  {
   "cell_type": "markdown",
   "id": "7985c6cb",
   "metadata": {},
   "source": [
    "For this part, you're given reads generated while trying to sequence the DNA of a mysterious unknown organism with a _tiny_ genome. Some of the course staff is not sure what a TeleTubby is, but I've been assured that no cute creatures were harmed in producing this data (which was generated synthetically).\n",
    "\n",
    "By answering the following questions, you will learn how to assemble the original genome sequence from sequence reads.\n",
    "\n",
    "Sequencing data is often stored in the FASTQ file format, with is a simple ASCII format that is somewhat human-readable. \n",
    "\n",
    "In _TeleTubby.fastq_ (which is included in the repository you forked), you will find the data that was read from the TeleTubby genome. Each four lines of the file repeat the same pattern. For example,\n",
    "```\n",
    "@TeleTubby Genome: Project 1\n",
    "TAAAATGG\n",
    "+\n",
    "HAICDF5I\n",
    "```\n",
    "The first line contains the metadata that encodes the name of the read, the experiment type, the kind of sequencing machine used, etc. \n",
    "\n",
    "The second line is the sequence of bases that was read. \n",
    "\n",
    "The third line is just a placeholder.\n",
    "\n",
    "The fourth line is a sequence of base qualities that encodes the qualities for the corresponding bases in the sequence line. We will discuss and use this for Problem 2."
   ]
  },
  {
   "cell_type": "markdown",
   "id": "744fd5da",
   "metadata": {},
   "source": [
    "Read in the data from `TeleTubby.fastq`:"
   ]
  },
  {
   "cell_type": "code",
   "execution_count": 12,
   "id": "04406782",
   "metadata": {},
   "outputs": [],
   "source": [
    "# Read sequence reads (error-free) from file\n",
    "sequence_reads, qualities = utils.read_fastq('TeleTubby.fastq')"
   ]
  },
  {
   "cell_type": "markdown",
   "id": "69527f9b",
   "metadata": {},
   "source": [
    "### Melting Temperature\n",
    "\n",
    "The GC-content (or the ratio of G and C nucleotides) is related to the melting temperature of a DNA double helix structure. \n",
    "\n",
    "The following equation can be used to estimate the melting temperature (in degrees Celsius) of DNA for a particular sequence:\n",
    "\n",
    "\\begin{equation*}\n",
    "t_m = 64.9+0.41(\\%GC)-\\frac{500}{\\text{length of sequence}}\n",
    "\\end{equation*}\n",
    "\n",
    "As a reference, the human genome is known to have between 35%-60% GC-content. \n",
    "\n",
    "<div class=\"alert alert-success\">\n",
    "\n",
    "**Problem 1.** Calculate the melting temperature for the TeleTubby genome using the formula above. Assume that the sequence is 300 nucleotides long, and that the provided read data has equal coverage everywhere so the G-C distribution in the reads is very close to the actual G-C distribution for the genome. \n",
    "    </div>"
   ]
  },
  {
   "cell_type": "code",
   "execution_count": 10,
   "id": "cd274b8a",
   "metadata": {},
   "outputs": [],
   "source": [
    "# Write code here for calculating the %GC content from the sequence_reads, and computing the estimated melting temperature.\n",
    "total = 0\n",
    "gc_content = 0\n",
    "\n",
    "for item in sequence_reads:\n",
    "    total+=len(item)\n",
    "    for i in range(len(item)):\n",
    "        if item[i]=='G' or item[i]=='C':\n",
    "            gc_content+=1\n",
    "gc_content = gc_content/total*100\n",
    "melt_temp = 64.9+0.41*gc_content-(500/300)"
   ]
  },
  {
   "cell_type": "code",
   "execution_count": 11,
   "id": "c5cc58d6",
   "metadata": {},
   "outputs": [
    {
     "name": "stdout",
     "output_type": "stream",
     "text": [
      "84.74783845278726\n",
      "2344\n"
     ]
    }
   ],
   "source": [
    "# Print out temperature in Celsius\n",
    "print(melt_temp)\n",
    "print(total)"
   ]
  },
  {
   "cell_type": "markdown",
   "id": "72723374",
   "metadata": {},
   "source": [
    "## Interpreting Read Quality"
   ]
  },
  {
   "cell_type": "markdown",
   "id": "e9a67a93",
   "metadata": {},
   "source": [
    "Phred33 quality scores are represented as the character with an ASCII code equal to its value + 33 (to make them easy to print alongside genome sequences). The Phred scores $Q$ are related to error probabilities $P$ as: $Q = -10 \\log_{10}(P)$. The table linked here provides a mapping from the Phred values provided in a fastq file and the $Q$ values: [Quality Score Encoding](https://support.illumina.com/help/BaseSpace_OLH_009008/Content/Source/Informatics/BS/QualityScoreEncoding_swBS.htm) \n",
    "\n",
    "<div class=\"alert alert-success\">\n",
    "    \n",
    "**Problem 2.** Using the Phred scores, identify the _least likely to be correct_ read in the TeleTubby.fastq data, which is the read with the lowest probability that it contains _no_ errors.\n",
    "\n",
    "</div>"
   ]
  },
  {
   "cell_type": "code",
   "execution_count": 5,
   "id": "76758368",
   "metadata": {},
   "outputs": [
    {
     "name": "stdout",
     "output_type": "stream",
     "text": [
      "TGTGTGAT\n",
      "614\n"
     ]
    }
   ],
   "source": [
    "# P = e^(-Q/10)\n",
    "# P1*P2 = e^(-(Q_1+Q2)/10)\n",
    "# The larger the sum of the Q-scores, the lower the probability of occurence.\n",
    "bestSeq = sequence_reads[0]# assume there is at least one sequence\n",
    "bestScore = -1\n",
    "for seq, qual in zip(sequence_reads, qualities):\n",
    "    seqNumbers = map(ord, seq) # for comparisons, the constant factor 33\n",
    "    #doesn't matter since they're the same length.\n",
    "    seqSum = sum(seqNumbers)\n",
    "    if seqSum > bestScore:\n",
    "        bestSeq = seq\n",
    "        bestScore = seqSum\n",
    "\n",
    "        \n",
    "print(bestSeq)\n",
    "print(bestScore)"
   ]
  },
  {
   "cell_type": "markdown",
   "id": "9d9abeb9",
   "metadata": {},
   "source": [
    "Note: For the following problems, you can ignore the read quality scores, and safely assume there are no actual errors in the provided TeleTubby reads."
   ]
  },
  {
   "cell_type": "markdown",
   "id": "8e55395f",
   "metadata": {},
   "source": [
    "## Frequency analysis\n",
    "\n",
    "Looking at repetitions in the sequence can be helpful in estimating the \"redudancy\" in the organisms. Eucaryote genomes have a lot of redundancy, while smaller organisms like bacteria have highly packed genomes. One heuristic to estimate this before actually performing the assembly could be looking at how often certain $k$-mers are repeated.\n",
    "\n",
    "<div class=\"alert alert-success\">\n",
    "    \n",
    "**Problem 3.**\n",
    "    Print out the 3 most frequent <em>k</em>-mers in the TeleTubby reads with their frequencies. (As in Problem 1, doing this from the reads only produces the same result as from the genome if the read coverage is equal everywhere, but it should be a close estimate.)\n",
    "</div>"
   ]
  },
  {
   "cell_type": "code",
   "execution_count": 18,
   "id": "bdbd6bc8",
   "metadata": {},
   "outputs": [
    {
     "name": "stdout",
     "output_type": "stream",
     "text": [
      "Top k-mers for all k\n",
      "G 651\n",
      "C 579\n",
      "A 575\n",
      "Top k-mers for k>1\n",
      "GA 198\n",
      "AT 174\n",
      "CC 171\n",
      "Top k-mers for k=8\n",
      "ATGATGAT 3\n",
      "GATGATGA 2\n",
      "TGATGATG 2\n"
     ]
    }
   ],
   "source": [
    "#Without assembly, calculation for any K larger than 2 is impossible.\n",
    "#Assume the problem means the 3 most frequent k-mers with k<=8\n",
    "merDict = {}\n",
    "for k in range(1,9): #constant factor\n",
    "    for seq in sequence_reads:#linear on number of sequences\n",
    "        for i in range(len(seq)+1-k):#linear on length of sequences\n",
    "            mer = seq[i:i+k]\n",
    "            if mer in merDict:\n",
    "                merDict[mer]= merDict[mer] + 1\n",
    "            else:\n",
    "                merDict[mer] = 1\n",
    "# dirty implementation, but works since the dataset is small:\n",
    "print (\"Top k-mers for all k\")\n",
    "topMers = [\"\",\"\",\"\"]\n",
    "for i in range(3):\n",
    "    topMers[i] = max(merDict, key=merDict.get)\n",
    "    print(topMers[i], merDict[topMers[i]])\n",
    "    merDict[topMers[i]] = 0\n",
    "print(\"Top k-mers for k>1\")\n",
    "# Let's assume instead that the problem meant k>1 as well.\n",
    "merDict[\"T\"] = 0\n",
    "for i in range(3):\n",
    "    topMers[i] = max(merDict, key=merDict.get)\n",
    "    print(topMers[i], merDict[topMers[i]])\n",
    "    merDict[topMers[i]] = 0\n",
    "print(\"Top k-mers for k=8\")\n",
    "mers8_2 = {k:v for k,v in merDict.items() if len(k) == 8}\n",
    "mers8 = mers8_2.copy()\n",
    "for i in range(3):\n",
    "    topMers[i] = max(mers8, key=mers8.get)\n",
    "    print(topMers[i], merDict[topMers[i]])\n",
    "    mers8[topMers[i]] = 0"
   ]
  },
  {
   "cell_type": "markdown",
   "id": "728a612b",
   "metadata": {},
   "source": [
    "## Greedy Assembly"
   ]
  },
  {
   "cell_type": "markdown",
   "id": "36c041ab",
   "metadata": {},
   "source": [
    "Given a set of sequence fragments, the objective of assembly can be viewed as finding the shortest sequence that contains all the fragments.\n",
    "\n",
    "One of the approaches to assemble the genome from the given reads is a greedy algorithm:\n",
    "\n",
    "```\n",
    "while (len(fragments) > 1):\n",
    "   calculate pairwise alignments of all pairs of fragments\n",
    "   merge the two fragments with the largest overlap\n",
    "genome = fragment[0] # the single remaining fragment is the genome\n",
    "```\n"
   ]
  },
  {
   "cell_type": "markdown",
   "id": "35f6e176",
   "metadata": {},
   "source": [
    "<div class=\"alert alert-success\">\n",
    "    \n",
    "**Problem 4 (a)**. What would the runtime be of this algorithm, given $n$ $k$-mer reads? (If you are not sure how to express your answer to this question, review [_Cost of Computation_](https://computingbiology.github.io/complexity/).)\n",
    "    </div>"
   ]
  },
  {
   "cell_type": "markdown",
   "id": "93985b9f",
   "metadata": {},
   "source": [
    "<i>Answer</i>:\n",
    "Suppose the fragments have a length of L (8 in this case).\n",
    "We will combine fragments O(N) times, where N is the number of sequences. For each fragment combination, we need to search through all pairs of fragments, O(N^2) in total. Finally, for each pair of fragments, we must calculate the alignment. There are no more than 3L possible alignments (the first sequence can start L units before the second starts, L units after it ends, or anywhere in between). A naive approach (which this is) would iterate over each of those and determine the best possible overlap given the constraints, returning the maximum score for that pair. This would likely take O(L) time for each possible alignment, since, if you were doing it naively, you'd have to check each nucleotide pair in each alignment separately. Finally, this gives us: \n",
    "\n",
    "O(N * N^2 * L * L)\n",
    "N combination steps, N^2 pairs (on average) each time, L alignments, and L work per alignment.\n",
    "= O(N^3L^2)"
   ]
  },
  {
   "cell_type": "markdown",
   "id": "6d868a87",
   "metadata": {},
   "source": [
    "<div class=\"alert alert-success\">\n",
    "\n",
    "**Problem 4 (b)**. Is this algorithm guaranteed to find the correct genome? (A good answer will define what _correct_ means here, and explain why the algorithm is or is not guaranteed to find it.)"
   ]
  },
  {
   "cell_type": "markdown",
   "id": "12bfc75b",
   "metadata": {},
   "source": [
    "<i>Answer</i>:\n",
    "\n",
    "The greedy algorithm is not guaranteed to find the correct genome, defining the correct answer as either \"the original sequence\" or \"the sequence which contains all reads and has lowest possible length. Using the first definition, the answer is obvious, since this process is messy and there could be multiple strings which satisfy our search criteria of \"shortest sequence containing all reads.\" For the second definition, consider the following reads (len 4 for clarity. Add non-matching garbage to the middle to make this example work for any N>4):\n",
    "\n",
    "CCAT CATA CATG ATCA\n",
    "\n",
    "\n",
    "Following the greedy algorithm, one possible execution is:\n",
    "CCAT + CATG = CCATG   ;  {CATA, CCATG, ATCA}\n",
    "ATCA + CATA = ATCATA ; {ATCATA, CCATG}\n",
    "CCATG + ATCATA = CCATGATCATA \n",
    "\n",
    "whereas a more optimal string is \n",
    "CCATATCATG\n"
   ]
  },
  {
   "cell_type": "markdown",
   "id": "44685e7e",
   "metadata": {},
   "source": [
    "## Graph-based Assembly"
   ]
  },
  {
   "cell_type": "markdown",
   "id": "c9d33cc7",
   "metadata": {},
   "source": [
    "Graphs for genome assembly can be constructed in two ways:\n",
    "\n",
    "- de Bruijn graph: Processing $k-$mers as edges, with $(k-1)-$mers as nodes, and\n",
    "- Overlap graph: Processing $k-$mers as nodes, with $(k-1)-$mers as edges.\n",
    "\n",
    "A de Bruijn graph can be processed to find Euler paths, while Overlap graphs can be processed to find Hamiltonian paths. Both of these methods can be used reconstruct the original genome.\n",
    "\n",
    "<div class=\"alert alert-success\">\n",
    "    \n",
    "**Problem 5.**  Use one of these two techniques to reconstruct the TeleTubby genome from the provided sequence reads. \n",
    "    \n",
    "</div>\n",
    "    \n",
    "We have provided some template code below that may be helpful (but feel free to ignore this is you prefer)."
   ]
  },
  {
   "cell_type": "code",
   "execution_count": null,
   "id": "c50bc332",
   "metadata": {},
   "outputs": [],
   "source": []
  },
  {
   "cell_type": "code",
   "execution_count": 7,
   "id": "f60e36d1",
   "metadata": {},
   "outputs": [],
   "source": [
    "# Read reads into graph\n",
    "class Node:\n",
    "    def __init__(self, rep):\n",
    "        self.rep = rep\n",
    "        self.inEdges = []\n",
    "        self.outEdges = []\n",
    "              \n",
    "class Edge:\n",
    "    def __init__(self, rep, nodeDict):\n",
    "        self.rep = rep\n",
    "        self.fr = nodeDict[rep[:-1]]\n",
    "        self.to = nodeDict[rep[1:]]\n",
    "        nodeDict[rep[:-1]].outEdges.append(self)\n",
    "        nodeDict[rep[1:]].inEdges.append(self) \n",
    "        self.visited = False\n",
    "mers7 = {k:v for k,v in merDict.items() if len(k) == 7}\n",
    "\n",
    "nodeDict = {k:Node(k) for k,v in mers7.items()}\n",
    "for k,v in mers8_2.items():\n",
    "    for i in range(v):\n",
    "        Edge(k, nodeDict)\n",
    "        \n",
    "# wow I hate weakly-typed languages\n",
    "\n",
    "startNodes = {k:v for k,v in nodeDict.items() if len(v.outEdges) > len(v.inEdges)}\n",
    "endNodes = {k:v for k,v in nodeDict.items() if len(v.inEdges) > len(v.outEdges)}\n",
    "endNode = list(endNodes.values())[0] \n",
    "assert(len(endNode.inEdges) == len(endNode.outEdges) + 1)\n",
    "startNode = list(startNodes.values())[0]\n",
    "assert(len(startNode.inEdges) == len(startNode.outEdges) - 1)\n",
    "\n",
    "endNode = list(endNodes.values())[0] #only for non-circuits but works here\n",
    "assert(len(endNode.inEdges) == len(endNode.outEdges) + 1)\n",
    "startNode = list(startNodes.values())[0]\n",
    "assert(len(startNode.inEdges) == len(startNode.outEdges) - 1)\n",
    "if len(startNodes) > 1 or len(endNodes) > 1:\n",
    "    print(startNode.rep)\n",
    "    print([x.rep for x in startNode.inEdges])\n",
    "    print([x.rep for x in startNode.outEdges])\n"
   ]
  },
  {
   "cell_type": "code",
   "execution_count": 8,
   "id": "93131d20",
   "metadata": {},
   "outputs": [
    {
     "name": "stdout",
     "output_type": "stream",
     "text": [
      "CTCGAATCGTAAACGTGTGAATGTGTGATATGAAGGATGATTGATGAGTCCGATACGGGCGGATTCTGACGCAAAGCATCACCCCGTCGGGGTAAAAGAGCCTGACGACCGTGAGCATATGTCAGCATTTACCCATCGCGCGCCAGGGGTCGTAGGTAGAATTGCTCGGAGCCACCATTTACCGGCGTTGCTCCCGACTTGTGCTCACCTGACAACATTAGGCAGGATAAGCTTATGAGATGACGCCCCCCCAGTGGTCAGATTTCCATCCCTGAGGATTTCGGTAGGACAATTGATGAT\n"
     ]
    }
   ],
   "source": [
    "stack = [startNode]\n",
    "visitList = []\n",
    "capStr = \"\"\n",
    "while len(stack) > 0:\n",
    "    curNode = stack.pop()\n",
    "    visitList.append(curNode)\n",
    "    for x in curNode.outEdges:\n",
    "        if not x.visited:\n",
    "            x.visited = True\n",
    "            stack.append(x.to)\n",
    "            \n",
    "capStr = visitList[-1].rep[1:]\n",
    "routeFlag = False\n",
    "while len(visitList) > 0:\n",
    "    curNode = visitList.pop()\n",
    "    capStr = curNode.rep[0] + capStr\n",
    "    if (len([x for x in curNode.outEdges if not x.visited]) > 0):\n",
    "        routeFlag = True\n",
    "        break #run down the dfs again\n",
    "if (routeFlag):\n",
    "    print(visitList)\n",
    "    midString = visitList[-1].rep[:-1]\n",
    "    visitList.pop()\n",
    "    stack = [curNode]\n",
    "    midList = []\n",
    "    while len(stack) > 0:\n",
    "        curNode = stack.pop()\n",
    "        midString += curNode.rep[-1]\n",
    "        midList.append(curNode)\n",
    "        for x in curNode.outEdges:\n",
    "            if not x.visited:\n",
    "                x.visited = True\n",
    "                stack.append(x.to)\n",
    "    startStr = visitList[-1].rep[1:]\n",
    "    while len(visitList) > 0:\n",
    "        curNode = visitList.pop()\n",
    "        capStr = curNode.rep[0] + capStr\n",
    "        assert(len([x for x in curNode.outEdges if not x.visited]) == 0) # only one road reaches the end of the path and stops.\n",
    "    print(startStr + midStr + capStr)\n",
    "else:\n",
    "    print(capStr)\n",
    "    \n",
    "        \n"
   ]
  },
  {
   "cell_type": "code",
   "execution_count": 9,
   "id": "a238b91e",
   "metadata": {},
   "outputs": [
    {
     "name": "stdout",
     "output_type": "stream",
     "text": [
      "300\n"
     ]
    }
   ],
   "source": [
    "print(len(capStr))"
   ]
  },
  {
   "cell_type": "code",
   "execution_count": null,
   "id": "3c4f6bfc",
   "metadata": {},
   "outputs": [],
   "source": [
    "# good enough for me "
   ]
  },
  {
   "cell_type": "markdown",
   "id": "91454973",
   "metadata": {},
   "source": [
    "<div class=\"alert alert-success\"> \n",
    "    \n",
    "**Problem 6.** Which of the two assembly methods did you use for problem 5, and why? (Hint: consider how the costs scale with the number of reads.)\n",
    "    \n",
    "</div>\n",
    "\n",
    "\n",
    "Finding a hamiltonian path is an NP-complete problem, so I decided to save that for next project. Eulerian paths can be found in O(E) time with a clever algorithm (and still pretty quickly with what I wrote)."
   ]
  },
  {
   "cell_type": "markdown",
   "id": "9c68ae0c",
   "metadata": {},
   "source": [
    "## Part 2: Sequencing SARS-CoV-2 virus"
   ]
  },
  {
   "cell_type": "markdown",
   "id": "bb9104f8",
   "metadata": {},
   "source": [
    "Let's move on from TeleTubbies to real-world organisms. For this problem, you'll assemble a genome for a variant of the SARS-CoV-2 virus. You're given reads from <i>actual</i> genome sequencing runs in the provided `SARS-CoV2.fastq` file. The file is based on the first Covid genome that was submitted on 5 January 2020: [https://www.ncbi.nlm.nih.gov/nuccore/NC_045512](https://www.ncbi.nlm.nih.gov/nuccore/NC_045512) But, you should be reconstructing a sequence from the provided reads without looking at the source sequence.\n",
    "\n",
    "<div class=\"alert alert-success\">\n",
    "    \n",
    "**Problem 7.**  Reconstruct the SATS-CoV2 genome from the provided sequence reads using $k=25$. \n",
    "    \n",
    "</div>\n",
    "\n",
    "You can re-use your implementation from Problem 5 and simply run it on the new data (depending on what you did for Problem 5, that might be enough to solve this problem). \n",
    "\n",
    "Print out your reconstructed sequence to a file `output.txt` (and add this file to the repo you submit). For this part, we will still assume that all the reads are error-free. "
   ]
  },
  {
   "cell_type": "code",
   "execution_count": null,
   "id": "490daca9",
   "metadata": {},
   "outputs": [],
   "source": [
    "# Read sequence reads\n",
    "sequence_reads_covid, qualities_covid = utils.read_fastq('SARS-CoV2.fastq')"
   ]
  },
  {
   "cell_type": "code",
   "execution_count": null,
   "id": "3dfbe110",
   "metadata": {},
   "outputs": [],
   "source": [
    "# Read reads into graph\n",
    "nodes_covid, edges_covid = build_graph(sequence_reads_covid)"
   ]
  },
  {
   "cell_type": "code",
   "execution_count": null,
   "id": "011414e6",
   "metadata": {},
   "outputs": [],
   "source": [
    "# Call main assembly algorithm\n",
    "assmebled_covid_seq = assemble_sequence(nodes_covid, edges_covid)"
   ]
  },
  {
   "cell_type": "code",
   "execution_count": null,
   "id": "b8818bf5",
   "metadata": {},
   "outputs": [],
   "source": [
    "# Write assembled sequence to file\n",
    "with open(\"output.txt\", \"w\") as f:\n",
    "    f.write(assmebled_covid_seq)"
   ]
  },
  {
   "cell_type": "markdown",
   "id": "a3cc7d97",
   "metadata": {},
   "source": [
    "# Part 3: Error-Aware Assembly (Challenge Problem)"
   ]
  },
  {
   "cell_type": "markdown",
   "id": "9c03fa24",
   "metadata": {},
   "source": [
    "<div class=\"alert alert-warning\">\n",
    "    This problem is a \"Challenge Problem\". This means it is a problem of unknown difficulty that might be quite challenging (unlike the earlier problems, we don't have a reference solution for this one, or a clear idea how hard it might be). We do hope all students will at least attempt this and that more ambitious students will work hard to solve it and learn interesting things by the attempt (whether or not it is successful), but not get frustrated if you can't get to the desired answer.  As a \"Challenge Problem\" it means that you shouldn't be worried if you are not able to solve this, though, and you can get full expected credit on this assignment without answering it.\n",
    "</div>\n",
    "\n",
    "\n",
    "In the parts above, we assumed error-free reads while assembling $k$-mers. As much as we'd like that, actual reads can (and do) have errors, captured by their Phred scores. \n",
    "\n",
    "For this question, you're given raw, actual reads from sequencing runs. Download the reads from this file:\n",
    "https://sra-pub-sars-cov2.s3.amazonaws.com/sra-src/SRR11528307/ABS2-LN-R1_cleaned_paired.fastq.gz.  \n",
    "\n",
    "\n",
    "<div class=\"alert alert-success\">\n",
    "    \n",
    "**Problem 8 (Challenge).** Give the reads in the linked fastq file above, including their Phred33 quality score, assemble the most likely genome. Your solution should output the assembled sequence in `challenge.txt`. Provide a brief explantion of how your algorithm works and interesting things you learned in developing it.\n",
    "    \n",
    "</div>\n",
    "    \n",
    "This is an open-ended question. You are free to use any approach to deal with the issue. Make sure you provide your code, along with any assumptions you may have."
   ]
  },
  {
   "cell_type": "markdown",
   "id": "5d7e82e1",
   "metadata": {},
   "source": [
    "_Write a description of your algorithm, and things you learned from working on this here._"
   ]
  },
  {
   "cell_type": "code",
   "execution_count": null,
   "id": "4594e10b",
   "metadata": {},
   "outputs": [],
   "source": [
    "# implementation "
   ]
  },
  {
   "cell_type": "markdown",
   "id": "89a97c21",
   "metadata": {},
   "source": [
    "   <div class=\"alert alert-block alert-danger\">\n",
    "    <center>\n",
    "        \n",
    " **Remember to follow the submission directions above to submit your assignment by 4:59pm on Tuesday, 8 February.**\n",
    "    \n",
    " </center>\n",
    " </div>"
   ]
  }
 ],
 "metadata": {
  "kernelspec": {
   "display_name": "Python 3",
   "language": "python",
   "name": "python3"
  },
  "language_info": {
   "codemirror_mode": {
    "name": "ipython",
    "version": 3
   },
   "file_extension": ".py",
   "mimetype": "text/x-python",
   "name": "python",
   "nbconvert_exporter": "python",
   "pygments_lexer": "ipython3",
   "version": "3.8.8"
  }
 },
 "nbformat": 4,
 "nbformat_minor": 5
}
